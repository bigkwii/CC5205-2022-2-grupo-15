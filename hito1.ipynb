{
 "cells": [
  {
   "cell_type": "markdown",
   "metadata": {},
   "source": [
    "# ANIME DATABASE\n",
    "### ~ Hito 1 ~\n",
    "Grupo 15:\n",
    "\n",
    "-Álvaro Morales\n",
    "\n",
    "-Iván Larraín\n",
    "\n",
    "-Ignacio Ancatripai\n",
    "\n",
    "-Felipe Araya"
   ]
  },
  {
   "cell_type": "markdown",
   "metadata": {},
   "source": [
    "## Introducción y motivación\n",
    "En este proyecto, se explorarán los datos y estadisticas presentados en la siguiente [Base de datos de MyAnimeList](https://www.kaggle.com/CooperUnion/anime-recommendations-database).\n"
   ]
  },
  {
   "cell_type": "markdown",
   "metadata": {},
   "source": [
    "\n",
    "### ¿Qué es MyAnimeList?\n",
    "[MyAnimeList](https://myanimelist.net) es una comunidad virtual de catalogación y red social de anime y manga. Al menos en occidente es la más utilizada de su tipo. Proporciona a sus usuarios un sistema basado en listas para organizar y puntuar anime y manga que hayan visto. Contiene una base de datos muy amplia de anime y manga, permite a usuarios añadir a su lista animes y mangas que hayan visto o leido, puntuarlos y contactar a otros usuarios con gustos similares.\n",
    "\n",
    "Ha existido desde el 2005, puesta en marcha por Garrett Gyssler, y recive cerca de 120 millones de visitantes al mes."
   ]
  },
  {
   "cell_type": "markdown",
   "metadata": {},
   "source": [
    "### Sobre éste dataset...\n",
    "\n",
    "La siguiente base de datos contiene información sobre Anime y los usuarios que los ven, sacada de MyAnimeList (actualizada hasta el 2018). Según nuestra fuente, kaggle, toda esta información es pública.\n",
    "\n",
    "Estos datos son interesantes, ya que contemplan una amplio rango de tiempo, géneros y usuarios; incluyendo información de ratings y popularidad, relativo a diversos factores tanto de los anime en sí, como de los usuarios. Nuestra esperanza es poder encontrar patrones y otros datos interesantes en cómo se relacionan ciertos géneros y series con respecto a los usuarios que los ven y en qué época."
   ]
  },
  {
   "cell_type": "markdown",
   "metadata": {},
   "source": [
    "### Detalles del dataset (por sus autores)\n",
    "Lo siguiente fue sacado direcamente de kaggle:\n",
    "\n",
    "AnimeList.csv contiene una lista de anime, con título, sinónimos del título, género, estudio, licencor, productor, duración, calificación, puntuación, fecha de emisión, episodios, fuente (manga, novela ligera, etc.) y muchos otros datos importantes sobre el anime individual que proporciona suficiente información sobre las tendencias en el tiempo sobre los aspectos importantes del anime. El rango está en formato flotante en csv, pero sólo contiene valores enteros. Esto se debe a los valores NaN y su representación en pandas.\n",
    "\n",
    "UserList.csv contiene información sobre los usuarios que ven anime, concretamente el nombre de usuario, la fecha de registro (join_date), la última fecha de conexión, la fecha de nacimiento, el sexo, la ubicación y muchos valores agregados de sus listas de anime.\n",
    "\n",
    "UserAnimeList.csv contiene listas de anime de todos los usuarios. Por cada registro, aquí está el nombre de usuario, el ID del anime, la puntuación, el estado y la fecha de la última actualización de este registro. Este archivo es muy grande, así que no lo tocaremos por ahora (al menos no su versión raw)."
   ]
  },
  {
   "cell_type": "markdown",
   "metadata": {},
   "source": [
    "Este dataset raw contiene:\n",
    "\n",
    "- 302 675 usuarios únicos (302 573 de ellos con algunos datos demográficos)\n",
    "- 80 076 112 registros en listas de anime\n",
    "- 46 358 322 de ellos tienen valoraciones\n",
    "- 14 478 animes únicos"
   ]
  },
  {
   "cell_type": "markdown",
   "metadata": {},
   "source": [
    "Además se incluye una versión filtrada en anime_filtered.csv, animelists_filtered.csv y users_filtered.csv. Consiste en usuarios que tienen la fecha de nacimiento, la ubicación y el género rellenados. Por lo tanto, contiene muchos menos datos de animelists.\n",
    "\n",
    "Pero todas las características importantes, como la media y la variación de la puntuación, o los géneros en las listas de animación, no cambian cuando se omiten los usuarios con algunos datos que faltan, por lo que incluso con los datos filtrados deberíamos obtener la misma información.\n",
    "\n",
    "Estos contienen:\n",
    "\n",
    "- 116 133 usuarios únicos con datos demográficos\n",
    "- 35 802 010 registros en listas de anime\n",
    "- 20 726 794 de ellos tienen valoraciones\n",
    "- 14 474 animes únicos"
   ]
  },
  {
   "cell_type": "markdown",
   "metadata": {},
   "source": [
    "Por último, también se incluyen datos \"limpios\" en anime_cleaned.csv, animelists_cleaned.csv y users_cleaned.csv. Esta versión limpiada ha truncado a todos los usuarios con un número ridículamente grande de episodios en animes que obviamente no tienen tantos episodios, los episodios vistos más grandes que el número de episodios en un anime individual fueron arreglados y los episodios vistos y el watchtime fue recalculado en consecuencia. Para algunos usuarios, la última vez que se conectaron fue en el año 1900, u otros valores extraños, por lo que su última actividad se dedujo de su última marca de tiempo de actualización de la lista de animes.\n",
    "\n",
    "Muchos usuarios rellenaron incorrectamente el número de episodios repetidos. En el caso de los animes en los que se han visto más episodios de los que tiene el anime, los episodios vistos se han reescrito como número de episodios de ese anime. El tiempo de visionado y el número de episodios vistos se han corregido en consecuencia.\n",
    "Los usuarios demasiado jóvenes y demasiado viejos, obviamente, se han truncado también.\n",
    "\n",
    "Habían 6 usuarios con sospechosamente muchos episodios vistos. Fueron truncados, son muy pocos usuarios para afectar a las estadísticas."
   ]
  },
  {
   "cell_type": "markdown",
   "metadata": {},
   "source": [
    "### Verifiquemos algunas de estas aseveraciones.\n",
    "\n",
    "A continuación, comprobaremos algunas de las cosas que asegura el análisis hecho por los autores de este dataset.\n",
    "\n",
    "UserAnimeList.csv pesa >5GB, y sus versiones filtradas >2GB c/u. Por esto, ignoraremos las versiones raw y filtered. Compararemos las otras para verificar el análisis hecho por los autores."
   ]
  },
  {
   "cell_type": "code",
   "execution_count": 2,
   "metadata": {},
   "outputs": [],
   "source": [
    "import numpy as np\n",
    "import pandas as pd\n",
    "import matplotlib.pyplot as plt"
   ]
  },
  {
   "cell_type": "code",
   "execution_count": 3,
   "metadata": {},
   "outputs": [],
   "source": [
    "# Raw, unfiltered data ~5GB\n",
    "#user_animelist = pd.read_csv('database/UserAnimeList.csv') -> This takes up a ridiculous amount of space (>5GB), so we're skipping them\n",
    "user_list = pd.read_csv('database/UserList.csv')\n",
    "anime_list = pd.read_csv('database/AnimeList.csv')\n",
    "\n",
    "# Filtered data ~2GB\n",
    "#animelists_filtered = pd.read_csv('database/animelists_filtered.csv') -> no point keeping this one + too big\n",
    "users_filtered = pd.read_csv('database/users_filtered.csv')\n",
    "anime_filtered = pd.read_csv('database/anime_filtered.csv')\n",
    "\n",
    "# Cleaned data ~2GB\n",
    "animelists_cleaned = pd.read_csv('database/animelists_cleaned.csv')\n",
    "users_cleaned = pd.read_csv('database/users_cleaned.csv')\n",
    "anime_cleaned = pd.read_csv('database/anime_cleaned.csv')"
   ]
  },
  {
   "cell_type": "code",
   "execution_count": 24,
   "metadata": {},
   "outputs": [
    {
     "name": "stdout",
     "output_type": "stream",
     "text": [
      "fyi: (rows, columns)\n",
      "user_list: (302675, 17)\n",
      "anime_list: (14478, 31)\n",
      "\n",
      "users_filtered: (116133, 17)\n",
      "anime_filtered: (14474, 31)\n",
      "\n",
      "animelists_cleaned: (31284030, 11)\n",
      "users_cleaned: (108711, 17)\n",
      "anime_cleaned: (6668, 33)\n"
     ]
    }
   ],
   "source": [
    "# tamaños\n",
    "print(\"fyi: (rows, columns)\")\n",
    "print(f\"user_list: {user_list.shape}\")\n",
    "print(f\"anime_list: {anime_list.shape}\")\n",
    "print()\n",
    "print(f\"users_filtered: {users_filtered.shape}\")\n",
    "print(f\"anime_filtered: {anime_filtered.shape}\")\n",
    "print()\n",
    "print(f\"animelists_cleaned: {animelists_cleaned.shape}\")\n",
    "print(f\"users_cleaned: {users_cleaned.shape}\")\n",
    "print(f\"anime_cleaned: {anime_cleaned.shape}\")"
   ]
  },
  {
   "cell_type": "code",
   "execution_count": 8,
   "metadata": {},
   "outputs": [
    {
     "name": "stdout",
     "output_type": "stream",
     "text": [
      "<class 'pandas.core.frame.DataFrame'>\n",
      "RangeIndex: 31284030 entries, 0 to 31284029\n",
      "Data columns (total 11 columns):\n",
      " #   Column               Dtype  \n",
      "---  ------               -----  \n",
      " 0   username             object \n",
      " 1   anime_id             int64  \n",
      " 2   my_watched_episodes  int64  \n",
      " 3   my_start_date        object \n",
      " 4   my_finish_date       object \n",
      " 5   my_score             int64  \n",
      " 6   my_status            int64  \n",
      " 7   my_rewatching        float64\n",
      " 8   my_rewatching_ep     int64  \n",
      " 9   my_last_updated      object \n",
      " 10  my_tags              object \n",
      "dtypes: float64(1), int64(5), object(5)\n",
      "memory usage: 2.6+ GB\n"
     ]
    }
   ],
   "source": [
    "animelists_cleaned.info() # listas de anime de los usuarios"
   ]
  },
  {
   "cell_type": "code",
   "execution_count": 16,
   "metadata": {},
   "outputs": [
    {
     "name": "stdout",
     "output_type": "stream",
     "text": [
      "<class 'pandas.core.frame.DataFrame'>\n",
      "RangeIndex: 108711 entries, 0 to 108710\n",
      "Data columns (total 17 columns):\n",
      " #   Column                    Non-Null Count   Dtype  \n",
      "---  ------                    --------------   -----  \n",
      " 0   username                  108710 non-null  object \n",
      " 1   user_id                   108711 non-null  int64  \n",
      " 2   user_watching             108711 non-null  int64  \n",
      " 3   user_completed            108711 non-null  int64  \n",
      " 4   user_onhold               108711 non-null  int64  \n",
      " 5   user_dropped              108711 non-null  int64  \n",
      " 6   user_plantowatch          108711 non-null  int64  \n",
      " 7   user_days_spent_watching  108711 non-null  float64\n",
      " 8   gender                    108711 non-null  object \n",
      " 9   location                  108706 non-null  object \n",
      " 10  birth_date                108711 non-null  object \n",
      " 11  access_rank               0 non-null       float64\n",
      " 12  join_date                 108711 non-null  object \n",
      " 13  last_online               108711 non-null  object \n",
      " 14  stats_mean_score          108711 non-null  float64\n",
      " 15  stats_rewatched           108711 non-null  float64\n",
      " 16  stats_episodes            108711 non-null  int64  \n",
      "dtypes: float64(4), int64(7), object(6)\n",
      "memory usage: 14.1+ MB\n"
     ]
    }
   ],
   "source": [
    "users_cleaned.info() # info de los usuarios"
   ]
  },
  {
   "cell_type": "code",
   "execution_count": 20,
   "metadata": {},
   "outputs": [
    {
     "data": {
      "text/html": [
       "<div>\n",
       "<style scoped>\n",
       "    .dataframe tbody tr th:only-of-type {\n",
       "        vertical-align: middle;\n",
       "    }\n",
       "\n",
       "    .dataframe tbody tr th {\n",
       "        vertical-align: top;\n",
       "    }\n",
       "\n",
       "    .dataframe thead th {\n",
       "        text-align: right;\n",
       "    }\n",
       "</style>\n",
       "<table border=\"1\" class=\"dataframe\">\n",
       "  <thead>\n",
       "    <tr style=\"text-align: right;\">\n",
       "      <th></th>\n",
       "      <th>username</th>\n",
       "      <th>user_id</th>\n",
       "      <th>user_watching</th>\n",
       "      <th>user_completed</th>\n",
       "      <th>user_onhold</th>\n",
       "      <th>user_dropped</th>\n",
       "      <th>user_plantowatch</th>\n",
       "      <th>user_days_spent_watching</th>\n",
       "      <th>gender</th>\n",
       "      <th>location</th>\n",
       "      <th>birth_date</th>\n",
       "      <th>access_rank</th>\n",
       "      <th>join_date</th>\n",
       "      <th>last_online</th>\n",
       "      <th>stats_mean_score</th>\n",
       "      <th>stats_rewatched</th>\n",
       "      <th>stats_episodes</th>\n",
       "    </tr>\n",
       "  </thead>\n",
       "  <tbody>\n",
       "    <tr>\n",
       "      <th>51311</th>\n",
       "      <td>NaN</td>\n",
       "      <td>300142</td>\n",
       "      <td>12</td>\n",
       "      <td>158</td>\n",
       "      <td>8</td>\n",
       "      <td>21</td>\n",
       "      <td>62</td>\n",
       "      <td>39.304167</td>\n",
       "      <td>Male</td>\n",
       "      <td>Serbia</td>\n",
       "      <td>1996-12-30 00:00:00</td>\n",
       "      <td>NaN</td>\n",
       "      <td>2010-03-01 00:00:00</td>\n",
       "      <td>2018-05-20 04:06:06</td>\n",
       "      <td>6.58</td>\n",
       "      <td>30.0</td>\n",
       "      <td>2524</td>\n",
       "    </tr>\n",
       "  </tbody>\n",
       "</table>\n",
       "</div>"
      ],
      "text/plain": [
       "      username  user_id  user_watching  user_completed  user_onhold  \\\n",
       "51311      NaN   300142             12             158            8   \n",
       "\n",
       "       user_dropped  user_plantowatch  user_days_spent_watching gender  \\\n",
       "51311            21                62                 39.304167   Male   \n",
       "\n",
       "      location           birth_date  access_rank            join_date  \\\n",
       "51311   Serbia  1996-12-30 00:00:00          NaN  2010-03-01 00:00:00   \n",
       "\n",
       "               last_online  stats_mean_score  stats_rewatched  stats_episodes  \n",
       "51311  2018-05-20 04:06:06              6.58             30.0            2524  "
      ]
     },
     "execution_count": 20,
     "metadata": {},
     "output_type": "execute_result"
    }
   ],
   "source": [
    "# ^^^ como todos los campos son exactamente la cantidad de filas (con algunas excepciones), parece que la limpieza fue bien hecha.\n",
    "# interesantenemte, hay un usuario con nombre null:\n",
    "users_cleaned[users_cleaned[\"username\"].isnull()]"
   ]
  },
  {
   "cell_type": "markdown",
   "metadata": {},
   "source": [
    "Pudimos encontrar a este usuario con la siguiente URL incluyendo su id: [https://myanimelist.net/comments.php?id=300142](https://myanimelist.net/comments.php?id=300142). Su nombre, efectivamente es [null](https://myanimelist.net/profile/null). Este usuario rompió el dataset."
   ]
  },
  {
   "cell_type": "code",
   "execution_count": 25,
   "metadata": {},
   "outputs": [
    {
     "data": {
      "text/plain": [
       "Index(['anime_id', 'title', 'title_english', 'title_japanese',\n",
       "       'title_synonyms', 'image_url', 'type', 'source', 'episodes', 'status',\n",
       "       'airing', 'aired_string', 'aired', 'duration', 'rating', 'score',\n",
       "       'scored_by', 'rank', 'popularity', 'members', 'favorites', 'background',\n",
       "       'premiered', 'broadcast', 'related', 'producer', 'licensor', 'studio',\n",
       "       'genre', 'opening_theme', 'ending_theme', 'duration_min',\n",
       "       'aired_from_year'],\n",
       "      dtype='object')"
      ]
     },
     "execution_count": 25,
     "metadata": {},
     "output_type": "execute_result"
    }
   ],
   "source": [
    "# son muchas columnas como para hacer anime_cleaned.info()\n",
    "anime_cleaned.columns # info de los animes"
   ]
  }
 ],
 "metadata": {
  "kernelspec": {
   "display_name": "Python 3.8.5 ('base')",
   "language": "python",
   "name": "python3"
  },
  "language_info": {
   "codemirror_mode": {
    "name": "ipython",
    "version": 3
   },
   "file_extension": ".py",
   "mimetype": "text/x-python",
   "name": "python",
   "nbconvert_exporter": "python",
   "pygments_lexer": "ipython3",
   "version": "3.8.5"
  },
  "orig_nbformat": 4,
  "vscode": {
   "interpreter": {
    "hash": "a5f44439766e47113308a61c45e3ba0ce79cefad900abb614d22e5ec5db7fbe0"
   }
  }
 },
 "nbformat": 4,
 "nbformat_minor": 2
}
