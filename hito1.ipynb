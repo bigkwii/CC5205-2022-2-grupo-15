{
 "cells": [
  {
   "cell_type": "markdown",
   "metadata": {},
   "source": [
    "# Anime Database\n",
    "#### Grupo 15\n",
    "### ~ Hito 1 ~\n",
    "Integrantes:\n",
    "\n",
    "- Álvaro Morales\n",
    "\n",
    "- Iván Larraín\n",
    "\n",
    "- Ignacio Ancatripai\n",
    "\n",
    "- Felipe Araya"
   ]
  },
  {
   "cell_type": "markdown",
   "metadata": {},
   "source": [
    "## Introducción y motivación\n",
    "En este proyecto, se explorarán los datos y estadisticas presentados en la siguiente [Base de datos de MyAnimeList](https://www.kaggle.com/CooperUnion/anime-recommendations-database).\n"
   ]
  },
  {
   "cell_type": "markdown",
   "metadata": {},
   "source": [
    "\n",
    "### Contexto\n",
    "El consumo global de anime (fuera de Japón) ha experimentado un alza considerable durante la década del 2010, impulsado por la creciente facilidad de acceso a series mediante plataformas de streaming (*Crunchyroll, Funimation, Netflix*, etc) que permiten acceder de manera legal a un género de televisión que por años estaba limitado a transmisiones irregulares en canales de televisión local o sitios web clandestinos. El nivel de integración a la cultura popular de estas series da paso a que exista un número creciente de datos disponibles sobre las series en si así como del público que las consume. Existen diversas plataformas en donde usuarios pueden discutir acerca de estas series, y algunas que permiten que un usuario califique y/o catalogue series según su experiencia personal con estas. Entre estas se encuentra *MyAnimeList*, la cual será la principal fuente de datos de este proyecto.\n",
    "\n",
    "[*MyAnimeList*](https://myanimelist.net) es una comunidad virtual de catalogación de anime y manga. Al menos en occidente es la más utilizada de su tipo. Proporciona a sus usuarios un sistema basado en listas para organizar y puntuar anime y/o manga que hayan visto y contactar a otros usuarios con gustos similares, todo esto gracias a una base de datos de anime/manga muy amplia. Los usuarios pueden añadir series a sus listas y marcarlas en diversos estados (\"visto\", \"viendo\", \"pausado\", etc), así como otorgarles una puntuación entre 1-10.\n",
    "\n",
    "Ha existido desde el 2005, puesta en marcha por Garrett Gyssler, y recive cerca de 120 millones de visitantes al mes.\n",
    "\n",
    "La base de datos a utilizar contiene información publica obtenida desde este sitio web, y contiene datos sobre miles de series de anime, usuarios y sus listas recopiladas hasta el año 2018. Estos datos son interesantes de analizar pues contemplan un amplio rango de tiempo, géneros (de series) y usuarios; incluyendo información de ratings y popularidad así como datos relevantes de los usuarios (género, fecha de nacimiento, nacionalidad, etc) que permiten realizar un estudio sobre la composición del público que consume anime y a la vez encontrar posibles relaciones entre las series y los usuarios que las ven, así como realizar un análisis temporal del consumo de estas."
   ]
  },
  {
   "cell_type": "markdown",
   "metadata": {},
   "source": [
    "## Exploración de datos\n",
    "Lo siguiente fue sacado direcamente de kaggle:\n",
    "\n",
    "AnimeList.csv contiene una lista de anime, con título, sinónimos del título, género, estudio, dueño de la licencia, productor, duración, calificación, puntuación, fecha de emisión, episodios, fuente (manga, novela ligera, etc.) y muchos otros datos importantes sobre el anime individual que proporciona suficiente información sobre las tendencias en el tiempo sobre los aspectos importantes del anime. El rango está en formato flotante en csv, pero sólo contiene valores enteros. Esto se debe a los valores NaN y su representación en pandas.\n",
    "\n",
    "UserList.csv contiene información sobre los usuarios que ven anime, concretamente el nombre de usuario, la fecha de registro (join_date), la última fecha de conexión, la fecha de nacimiento, el sexo, la ubicación y muchos valores agregados de sus listas de anime.\n",
    "\n",
    "UserAnimeList.csv contiene listas de anime de todos los usuarios. Por cada registro, aquí está el nombre de usuario, el ID del anime, la puntuación, el estado y la fecha de la última actualización de este registro. Este archivo es muy grande, así que no lo tocaremos por ahora (al menos no su versión raw)."
   ]
  },
  {
   "cell_type": "markdown",
   "metadata": {},
   "source": [
    "Este dataset (sin preprocesamiento) contiene:\n",
    "\n",
    "- 302 675 usuarios únicos (302 573 de ellos con algunos datos demográficos)\n",
    "- 80 076 112 registros en listas de anime\n",
    "- 46 358 322 de ellos tienen valoraciones\n",
    "- 14 478 animes únicos"
   ]
  },
  {
   "cell_type": "markdown",
   "metadata": {},
   "source": [
    "Además se incluye una versión filtrada en anime_filtered.csv, animelists_filtered.csv y users_filtered.csv. Consiste en usuarios que tienen la fecha de nacimiento, la ubicación y el género rellenados. Por lo tanto, contiene muchos menos datos de animelists.\n",
    "\n",
    "Pero todas las características importantes, como la media y la variación de la puntuación, o los géneros en las listas de animación, no cambian cuando se omiten los usuarios con algunos datos que faltan, por lo que incluso con los datos filtrados deberíamos obtener la misma información.\n",
    "\n",
    "Estos contienen:\n",
    "\n",
    "- 116 133 usuarios únicos con datos demográficos\n",
    "- 35 802 010 registros en listas de anime\n",
    "- 20 726 794 de ellos tienen valoraciones\n",
    "- 14 474 animes únicos"
   ]
  },
  {
   "cell_type": "markdown",
   "metadata": {},
   "source": [
    "Por último, también se incluyen datos \"limpios\" en anime_cleaned.csv, animelists_cleaned.csv y users_cleaned.csv. Esta versión limpiada ha truncado a todos los usuarios con un número ridículamente grande de episodios en animes que obviamente no tienen tantos episodios, los episodios vistos más grandes que el número de episodios en un anime individual fueron arreglados y los episodios vistos y el watchtime fue recalculado en consecuencia. Para algunos usuarios, la última vez que se conectaron fue en el año 1900, u otros valores extraños, por lo que su última actividad se dedujo de su última marca de tiempo de actualización de la lista de animes.\n",
    "\n",
    "Muchos usuarios rellenaron incorrectamente el número de episodios vistos o repetidos. En el caso de los animes en los que se han visto más episodios de los que tiene el anime, los episodios vistos se han reescrito como número de episodios de ese anime. El tiempo de visionado y el número de episodios vistos se han corregido en consecuencia.\n",
    "Los usuarios demasiado jóvenes y demasiado viejos, obviamente, se han truncado también.\n",
    "\n",
    "Habían 6 usuarios con sospechosamente muchos episodios vistos. Fueron truncados, son muy pocos usuarios para afectar a las estadísticas."
   ]
  },
  {
   "cell_type": "markdown",
   "metadata": {},
   "source": [
    "### Verifiquemos algunas de estas aseveraciones.\n",
    "\n",
    "A continuación, comprobaremos algunas de las cosas que asegura el análisis hecho por los autores de este dataset.\n",
    "\n",
    "UserAnimeList.csv pesa >5GB, y sus versiones filtradas >2GB c/u. Por esto, ignoraremos las versiones raw y filtered. Compararemos las otras para verificar el análisis hecho por los autores."
   ]
  },
  {
   "cell_type": "code",
   "execution_count": 1,
   "metadata": {},
   "outputs": [],
   "source": [
    "import numpy as np\n",
    "import pandas as pd\n",
    "import matplotlib.pyplot as plt"
   ]
  },
  {
   "cell_type": "code",
   "execution_count": 13,
   "metadata": {},
   "outputs": [],
   "source": [
    "# Raw, unfiltered data ~5GB\n",
    "# user_animelist = pd.read_csv('database/UserAnimeList.csv') -> This takes up a ridiculous amount of space (>5GB), so we're skipping them\n",
    "user_list = pd.read_csv('database/UserList.csv')\n",
    "anime_list = pd.read_csv('database/AnimeList.csv')\n",
    "\n",
    "# Filtered data ~2GB\n",
    "#animelists_filtered = pd.read_csv('database/animelists_filtered.csv') -> no point keeping this one + too big\n",
    "users_filtered = pd.read_csv('database/users_filtered.csv')\n",
    "anime_filtered = pd.read_csv('database/anime_filtered.csv')\n",
    "\n",
    "# Cleaned data ~2GB\n",
    "animelists_cleaned = pd.read_csv('database/animelists_cleaned.csv')\n",
    "users_cleaned = pd.read_csv('database/users_cleaned.csv')\n",
    "anime_cleaned = pd.read_csv('database/anime_cleaned.csv')"
   ]
  },
  {
   "cell_type": "code",
   "execution_count": 3,
   "metadata": {},
   "outputs": [
    {
     "name": "stdout",
     "output_type": "stream",
     "text": [
      "fyi: (rows, columns)\n",
      "user_list: (302675, 17)\n",
      "anime_list: (14478, 31)\n",
      "\n",
      "users_filtered: (116133, 17)\n",
      "anime_filtered: (14474, 31)\n",
      "\n",
      "animelists_cleaned: (31284030, 11)\n",
      "users_cleaned: (108711, 17)\n",
      "anime_cleaned: (6668, 33)\n"
     ]
    }
   ],
   "source": [
    "# tamaños\n",
    "print(\"fyi: (rows, columns)\")\n",
    "print(f\"user_list: {user_list.shape}\")\n",
    "print(f\"anime_list: {anime_list.shape}\")\n",
    "print()\n",
    "print(f\"users_filtered: {users_filtered.shape}\")\n",
    "print(f\"anime_filtered: {anime_filtered.shape}\")\n",
    "print()\n",
    "print(f\"animelists_cleaned: {animelists_cleaned.shape}\")\n",
    "print(f\"users_cleaned: {users_cleaned.shape}\")\n",
    "print(f\"anime_cleaned: {anime_cleaned.shape}\")"
   ]
  },
  {
   "cell_type": "code",
   "execution_count": 4,
   "metadata": {},
   "outputs": [
    {
     "name": "stdout",
     "output_type": "stream",
     "text": [
      "<class 'pandas.core.frame.DataFrame'>\n",
      "RangeIndex: 31284030 entries, 0 to 31284029\n",
      "Data columns (total 11 columns):\n",
      " #   Column               Dtype  \n",
      "---  ------               -----  \n",
      " 0   username             object \n",
      " 1   anime_id             int64  \n",
      " 2   my_watched_episodes  int64  \n",
      " 3   my_start_date        object \n",
      " 4   my_finish_date       object \n",
      " 5   my_score             int64  \n",
      " 6   my_status            int64  \n",
      " 7   my_rewatching        float64\n",
      " 8   my_rewatching_ep     int64  \n",
      " 9   my_last_updated      object \n",
      " 10  my_tags              object \n",
      "dtypes: float64(1), int64(5), object(5)\n",
      "memory usage: 2.6+ GB\n"
     ]
    }
   ],
   "source": [
    "animelists_cleaned.info() # listas de anime de los usuarios"
   ]
  },
  {
   "cell_type": "code",
   "execution_count": 5,
   "metadata": {},
   "outputs": [
    {
     "name": "stdout",
     "output_type": "stream",
     "text": [
      "<class 'pandas.core.frame.DataFrame'>\n",
      "RangeIndex: 108711 entries, 0 to 108710\n",
      "Data columns (total 17 columns):\n",
      " #   Column                    Non-Null Count   Dtype  \n",
      "---  ------                    --------------   -----  \n",
      " 0   username                  108710 non-null  object \n",
      " 1   user_id                   108711 non-null  int64  \n",
      " 2   user_watching             108711 non-null  int64  \n",
      " 3   user_completed            108711 non-null  int64  \n",
      " 4   user_onhold               108711 non-null  int64  \n",
      " 5   user_dropped              108711 non-null  int64  \n",
      " 6   user_plantowatch          108711 non-null  int64  \n",
      " 7   user_days_spent_watching  108711 non-null  float64\n",
      " 8   gender                    108711 non-null  object \n",
      " 9   location                  108706 non-null  object \n",
      " 10  birth_date                108711 non-null  object \n",
      " 11  access_rank               0 non-null       float64\n",
      " 12  join_date                 108711 non-null  object \n",
      " 13  last_online               108711 non-null  object \n",
      " 14  stats_mean_score          108711 non-null  float64\n",
      " 15  stats_rewatched           108711 non-null  float64\n",
      " 16  stats_episodes            108711 non-null  int64  \n",
      "dtypes: float64(4), int64(7), object(6)\n",
      "memory usage: 14.1+ MB\n"
     ]
    }
   ],
   "source": [
    "users_cleaned.info() # info de los usuarios"
   ]
  },
  {
   "cell_type": "code",
   "execution_count": 8,
   "metadata": {},
   "outputs": [
    {
     "name": "stdout",
     "output_type": "stream",
     "text": [
      "<class 'pandas.core.frame.DataFrame'>\n",
      "RangeIndex: 6668 entries, 0 to 6667\n",
      "Data columns (total 33 columns):\n",
      " #   Column           Non-Null Count  Dtype  \n",
      "---  ------           --------------  -----  \n",
      " 0   anime_id         6668 non-null   int64  \n",
      " 1   title            6668 non-null   object \n",
      " 2   title_english    3438 non-null   object \n",
      " 3   title_japanese   6663 non-null   object \n",
      " 4   title_synonyms   4481 non-null   object \n",
      " 5   image_url        6666 non-null   object \n",
      " 6   type             6668 non-null   object \n",
      " 7   source           6668 non-null   object \n",
      " 8   episodes         6668 non-null   int64  \n",
      " 9   status           6668 non-null   object \n",
      " 10  airing           6668 non-null   bool   \n",
      " 11  aired_string     6668 non-null   object \n",
      " 12  aired            6668 non-null   object \n",
      " 13  duration         6668 non-null   object \n",
      " 14  rating           6668 non-null   object \n",
      " 15  score            6668 non-null   float64\n",
      " 16  scored_by        6668 non-null   int64  \n",
      " 17  rank             6312 non-null   float64\n",
      " 18  popularity       6668 non-null   int64  \n",
      " 19  members          6668 non-null   int64  \n",
      " 20  favorites        6668 non-null   int64  \n",
      " 21  background       813 non-null    object \n",
      " 22  premiered        2966 non-null   object \n",
      " 23  broadcast        2980 non-null   object \n",
      " 24  related          6668 non-null   object \n",
      " 25  producer         4402 non-null   object \n",
      " 26  licensor         2787 non-null   object \n",
      " 27  studio           6668 non-null   object \n",
      " 28  genre            6664 non-null   object \n",
      " 29  opening_theme    6668 non-null   object \n",
      " 30  ending_theme     6668 non-null   object \n",
      " 31  duration_min     6668 non-null   float64\n",
      " 32  aired_from_year  6668 non-null   float64\n",
      "dtypes: bool(1), float64(4), int64(6), object(22)\n",
      "memory usage: 1.6+ MB\n"
     ]
    }
   ],
   "source": [
    "anime_cleaned.info() # info de los anime"
   ]
  },
  {
   "cell_type": "markdown",
   "metadata": {},
   "source": [
    "El creador del dataset menciona que hay 6 usuarios con un número excesivamente alto de episodios."
   ]
  },
  {
   "cell_type": "code",
   "execution_count": 44,
   "metadata": {},
   "outputs": [
    {
     "data": {
      "text/plain": [
       "<AxesSubplot: title={'center': 'Usuarios por número de episodios vistos'}, xlabel='Usuario', ylabel='Episodios vistos'>"
      ]
     },
     "execution_count": 44,
     "metadata": {},
     "output_type": "execute_result"
    },
    {
     "data": {
      "image/png": "[encoded data removed]",
      "text/plain": [
       "<Figure size 640x480 with 1 Axes>"
      ]
     },
     "metadata": {},
     "output_type": "display_data"
    }
   ],
   "source": [
    "# Veremos a los usuarios por número de episodios vistos\n",
    "user_list[['username','stats_episodes']].sort_values('stats_episodes', ascending=False).head(10)\n",
    "# Graficar usuarios por numero de episodios vistos\n",
    "user_list.plot.scatter(x='user_id', y='stats_episodes', xlabel=\"Usuario\", ylabel=\"Episodios vistos\", color=\"blue\", size=5, title='Usuarios por número de episodios vistos')"
   ]
  },
  {
   "cell_type": "markdown",
   "metadata": {},
   "source": [
    "Se pueden observar a simple vista al menos 6 puntos con una cantidad excesivamente mayor al resto. Es interesante ver el punto que más se aleja del resto, correspondiente al usuario con mayor cantidad de episodios vistos."
   ]
  },
  {
   "cell_type": "code",
   "execution_count": 43,
   "metadata": {},
   "outputs": [
    {
     "data": {
      "text/html": [
       "<div>\n",
       "<style scoped>\n",
       "    .dataframe tbody tr th:only-of-type {\n",
       "        vertical-align: middle;\n",
       "    }\n",
       "\n",
       "    .dataframe tbody tr th {\n",
       "        vertical-align: top;\n",
       "    }\n",
       "\n",
       "    .dataframe thead th {\n",
       "        text-align: right;\n",
       "    }\n",
       "</style>\n",
       "<table border=\"1\" class=\"dataframe\">\n",
       "  <thead>\n",
       "    <tr style=\"text-align: right;\">\n",
       "      <th></th>\n",
       "      <th>username</th>\n",
       "      <th>user_id</th>\n",
       "      <th>user_watching</th>\n",
       "      <th>user_completed</th>\n",
       "      <th>user_onhold</th>\n",
       "      <th>user_dropped</th>\n",
       "      <th>user_plantowatch</th>\n",
       "      <th>user_days_spent_watching</th>\n",
       "      <th>gender</th>\n",
       "      <th>location</th>\n",
       "      <th>birth_date</th>\n",
       "      <th>access_rank</th>\n",
       "      <th>join_date</th>\n",
       "      <th>last_online</th>\n",
       "      <th>stats_mean_score</th>\n",
       "      <th>stats_rewatched</th>\n",
       "      <th>stats_episodes</th>\n",
       "    </tr>\n",
       "  </thead>\n",
       "  <tbody>\n",
       "    <tr>\n",
       "      <th>45081</th>\n",
       "      <td>warrose</td>\n",
       "      <td>443232</td>\n",
       "      <td>35</td>\n",
       "      <td>2034</td>\n",
       "      <td>0</td>\n",
       "      <td>1</td>\n",
       "      <td>7</td>\n",
       "      <td>2601351.02</td>\n",
       "      <td>Male</td>\n",
       "      <td>San Luis</td>\n",
       "      <td>1994-01-21</td>\n",
       "      <td>NaN</td>\n",
       "      <td>2011-02-01</td>\n",
       "      <td>2014-12-28 21:54:00</td>\n",
       "      <td>1.01</td>\n",
       "      <td>0.0</td>\n",
       "      <td>243794881.0</td>\n",
       "    </tr>\n",
       "  </tbody>\n",
       "</table>\n",
       "</div>"
      ],
      "text/plain": [
       "      username  user_id  user_watching  user_completed  user_onhold  \\\n",
       "45081  warrose   443232             35            2034            0   \n",
       "\n",
       "       user_dropped  user_plantowatch  user_days_spent_watching gender  \\\n",
       "45081             1                 7                2601351.02   Male   \n",
       "\n",
       "       location  birth_date  access_rank   join_date          last_online  \\\n",
       "45081  San Luis  1994-01-21          NaN  2011-02-01  2014-12-28 21:54:00   \n",
       "\n",
       "       stats_mean_score  stats_rewatched  stats_episodes  \n",
       "45081              1.01              0.0     243794881.0  "
      ]
     },
     "execution_count": 43,
     "metadata": {},
     "output_type": "execute_result"
    }
   ],
   "source": [
    "# Obtenemos al usuario con mayor cantidad de episodios\n",
    "user_list[user_list['stats_episodes'] == user_list['stats_episodes'].max()]"
   ]
  },
  {
   "cell_type": "markdown",
   "metadata": {},
   "source": [
    "Este usuario aparentemente ha visto 243.794.881 episodios en total. Si se accede a su [perfil](https://myanimelist.net/animelist/warrose?status=7&order=4&order2=0) en el sitio web es posible notar con que sus datos son muy probablemente falsos (todas las series con el mismo puntaje, algunas con un número imposiblemente grande de episodios). Esta clase de datos no aportan al dataset y por esa razón son eliminados por el autor para las versiones *clean*."
   ]
  },
  {
   "cell_type": "code",
   "execution_count": 6,
   "metadata": {},
   "outputs": [
    {
     "data": {
      "text/html": [
       "<div>\n",
       "<style scoped>\n",
       "    .dataframe tbody tr th:only-of-type {\n",
       "        vertical-align: middle;\n",
       "    }\n",
       "\n",
       "    .dataframe tbody tr th {\n",
       "        vertical-align: top;\n",
       "    }\n",
       "\n",
       "    .dataframe thead th {\n",
       "        text-align: right;\n",
       "    }\n",
       "</style>\n",
       "<table border=\"1\" class=\"dataframe\">\n",
       "  <thead>\n",
       "    <tr style=\"text-align: right;\">\n",
       "      <th></th>\n",
       "      <th>username</th>\n",
       "      <th>user_id</th>\n",
       "      <th>user_watching</th>\n",
       "      <th>user_completed</th>\n",
       "      <th>user_onhold</th>\n",
       "      <th>user_dropped</th>\n",
       "      <th>user_plantowatch</th>\n",
       "      <th>user_days_spent_watching</th>\n",
       "      <th>gender</th>\n",
       "      <th>location</th>\n",
       "      <th>birth_date</th>\n",
       "      <th>access_rank</th>\n",
       "      <th>join_date</th>\n",
       "      <th>last_online</th>\n",
       "      <th>stats_mean_score</th>\n",
       "      <th>stats_rewatched</th>\n",
       "      <th>stats_episodes</th>\n",
       "    </tr>\n",
       "  </thead>\n",
       "  <tbody>\n",
       "    <tr>\n",
       "      <th>51311</th>\n",
       "      <td>NaN</td>\n",
       "      <td>300142</td>\n",
       "      <td>12</td>\n",
       "      <td>158</td>\n",
       "      <td>8</td>\n",
       "      <td>21</td>\n",
       "      <td>62</td>\n",
       "      <td>39.304167</td>\n",
       "      <td>Male</td>\n",
       "      <td>Serbia</td>\n",
       "      <td>1996-12-30 00:00:00</td>\n",
       "      <td>NaN</td>\n",
       "      <td>2010-03-01 00:00:00</td>\n",
       "      <td>2018-05-20 04:06:06</td>\n",
       "      <td>6.58</td>\n",
       "      <td>30.0</td>\n",
       "      <td>2524</td>\n",
       "    </tr>\n",
       "  </tbody>\n",
       "</table>\n",
       "</div>"
      ],
      "text/plain": [
       "      username  user_id  user_watching  user_completed  user_onhold  \\\n",
       "51311      NaN   300142             12             158            8   \n",
       "\n",
       "       user_dropped  user_plantowatch  user_days_spent_watching gender  \\\n",
       "51311            21                62                 39.304167   Male   \n",
       "\n",
       "      location           birth_date  access_rank            join_date  \\\n",
       "51311   Serbia  1996-12-30 00:00:00          NaN  2010-03-01 00:00:00   \n",
       "\n",
       "               last_online  stats_mean_score  stats_rewatched  stats_episodes  \n",
       "51311  2018-05-20 04:06:06              6.58             30.0            2524  "
      ]
     },
     "execution_count": 6,
     "metadata": {},
     "output_type": "execute_result"
    }
   ],
   "source": [
    "# ^^^ como todos los campos son exactamente la cantidad de filas (con algunas excepciones), parece que la limpieza fue bien hecha.\n",
    "# interesantenemte, hay un usuario con nombre null:\n",
    "users_cleaned[users_cleaned[\"username\"].isnull()]"
   ]
  },
  {
   "cell_type": "markdown",
   "metadata": {},
   "source": [
    "En el dataset de usuarios se encuentra que había una fila en donde username era null. Esto en un comienzo parece ser un dato erróneo pero se decide investigar.\n",
    "Se pudo encontrar a este usuario con la siguiente URL incluyendo su id: [https://myanimelist.net/comments.php?id=300142](https://myanimelist.net/comments.php?id=300142). Su nombre, efectivamente es [null](https://myanimelist.net/profile/null). Esto produjo que al leer el archivo .csv se tomara como NaN."
   ]
  },
  {
   "cell_type": "code",
   "execution_count": 47,
   "metadata": {},
   "outputs": [
    {
     "data": {
      "text/html": [
       "<div>\n",
       "<style scoped>\n",
       "    .dataframe tbody tr th:only-of-type {\n",
       "        vertical-align: middle;\n",
       "    }\n",
       "\n",
       "    .dataframe tbody tr th {\n",
       "        vertical-align: top;\n",
       "    }\n",
       "\n",
       "    .dataframe thead th {\n",
       "        text-align: right;\n",
       "    }\n",
       "</style>\n",
       "<table border=\"1\" class=\"dataframe\">\n",
       "  <thead>\n",
       "    <tr style=\"text-align: right;\">\n",
       "      <th></th>\n",
       "      <th>username</th>\n",
       "      <th>user_id</th>\n",
       "      <th>user_watching</th>\n",
       "      <th>user_completed</th>\n",
       "      <th>user_onhold</th>\n",
       "      <th>user_dropped</th>\n",
       "      <th>user_plantowatch</th>\n",
       "      <th>user_days_spent_watching</th>\n",
       "      <th>gender</th>\n",
       "      <th>location</th>\n",
       "      <th>birth_date</th>\n",
       "      <th>access_rank</th>\n",
       "      <th>join_date</th>\n",
       "      <th>last_online</th>\n",
       "      <th>stats_mean_score</th>\n",
       "      <th>stats_rewatched</th>\n",
       "      <th>stats_episodes</th>\n",
       "    </tr>\n",
       "  </thead>\n",
       "  <tbody>\n",
       "    <tr>\n",
       "      <th>51311</th>\n",
       "      <td>null</td>\n",
       "      <td>300142</td>\n",
       "      <td>12</td>\n",
       "      <td>158</td>\n",
       "      <td>8</td>\n",
       "      <td>21</td>\n",
       "      <td>62</td>\n",
       "      <td>39.304167</td>\n",
       "      <td>Male</td>\n",
       "      <td>Serbia</td>\n",
       "      <td>1996-12-30 00:00:00</td>\n",
       "      <td>NaN</td>\n",
       "      <td>2010-03-01 00:00:00</td>\n",
       "      <td>2018-05-20 04:06:06</td>\n",
       "      <td>6.58</td>\n",
       "      <td>30.0</td>\n",
       "      <td>2524</td>\n",
       "    </tr>\n",
       "  </tbody>\n",
       "</table>\n",
       "</div>"
      ],
      "text/plain": [
       "      username  user_id  user_watching  user_completed  user_onhold  \\\n",
       "51311     null   300142             12             158            8   \n",
       "\n",
       "       user_dropped  user_plantowatch  user_days_spent_watching gender  \\\n",
       "51311            21                62                 39.304167   Male   \n",
       "\n",
       "      location           birth_date  access_rank            join_date  \\\n",
       "51311   Serbia  1996-12-30 00:00:00          NaN  2010-03-01 00:00:00   \n",
       "\n",
       "               last_online  stats_mean_score  stats_rewatched  stats_episodes  \n",
       "51311  2018-05-20 04:06:06              6.58             30.0            2524  "
      ]
     },
     "execution_count": 47,
     "metadata": {},
     "output_type": "execute_result"
    }
   ],
   "source": [
    "# Vamos a renombrar el usuario con nombre null a \"null\"\n",
    "users_cleaned.loc[users_cleaned[\"username\"].isnull(), \"username\"] = \"null\"\n",
    "# Obtenemos nuevamente al usuario con nombre \"null\"\n",
    "users_cleaned[users_cleaned[\"username\"] == \"null\"]"
   ]
  },
  {
   "cell_type": "code",
   "execution_count": 49,
   "metadata": {},
   "outputs": [
    {
     "name": "stdout",
     "output_type": "stream",
     "text": [
      "<class 'pandas.core.frame.DataFrame'>\n",
      "RangeIndex: 108711 entries, 0 to 108710\n",
      "Data columns (total 17 columns):\n",
      " #   Column                    Non-Null Count   Dtype  \n",
      "---  ------                    --------------   -----  \n",
      " 0   username                  108711 non-null  object \n",
      " 1   user_id                   108711 non-null  int64  \n",
      " 2   user_watching             108711 non-null  int64  \n",
      " 3   user_completed            108711 non-null  int64  \n",
      " 4   user_onhold               108711 non-null  int64  \n",
      " 5   user_dropped              108711 non-null  int64  \n",
      " 6   user_plantowatch          108711 non-null  int64  \n",
      " 7   user_days_spent_watching  108711 non-null  float64\n",
      " 8   gender                    108711 non-null  object \n",
      " 9   location                  108706 non-null  object \n",
      " 10  birth_date                108711 non-null  object \n",
      " 11  access_rank               0 non-null       float64\n",
      " 12  join_date                 108711 non-null  object \n",
      " 13  last_online               108711 non-null  object \n",
      " 14  stats_mean_score          108711 non-null  float64\n",
      " 15  stats_rewatched           108711 non-null  float64\n",
      " 16  stats_episodes            108711 non-null  int64  \n",
      "dtypes: float64(4), int64(7), object(6)\n",
      "memory usage: 14.1+ MB\n"
     ]
    }
   ],
   "source": [
    "# Ahora al revisar nuevamente users_cleaned, veremos que ya no hay usuarios con nombre NaN\n",
    "users_cleaned.info()"
   ]
  },
  {
   "cell_type": "markdown",
   "metadata": {},
   "source": [
    "Se puede obtener de los datos actuales los géneros más populares de anime, por dos criterios:\n",
    "Primero, los géneros más populares por número de series producidas de ese género."
   ]
  },
  {
   "cell_type": "code",
   "execution_count": 161,
   "metadata": {},
   "outputs": [
    {
     "data": {
      "text/plain": [
       "<AxesSubplot: title={'center': 'Cantidad de generos'}, xlabel='Cantidad', ylabel='Genero'>"
      ]
     },
     "execution_count": 161,
     "metadata": {},
     "output_type": "execute_result"
    },
    {
     "data": {
      "image/png": "[encoded data removed]",
      "text/plain": [
       "<Figure size 1000x1000 with 1 Axes>"
      ]
     },
     "metadata": {},
     "output_type": "display_data"
    }
   ],
   "source": [
    "# Obtenemos los generos y contamos sus apariciones.\n",
    "anime_genres = anime_cleaned[\"genre\"].str.split(\", \", expand=True).stack().value_counts(dropna=False)\n",
    "# Graficamos los generos\n",
    "anime_genres.plot.barh(xlabel=\"Cantidad\", ylabel=\"Genero\", title=\"Cantidad de generos\", figsize=(10, 10))"
   ]
  }
 ],
 "metadata": {
  "kernelspec": {
   "display_name": "Python 3.10.7 64-bit",
   "language": "python",
   "name": "python3"
  },
  "language_info": {
   "codemirror_mode": {
    "name": "ipython",
    "version": 3
   },
   "file_extension": ".py",
   "mimetype": "text/x-python",
   "name": "python",
   "nbconvert_exporter": "python",
   "pygments_lexer": "ipython3",
   "version": "3.10.7"
  },
  "orig_nbformat": 4,
  "vscode": {
   "interpreter": {
    "hash": "feabd682d07e1de51ad16ab4c1d1a4968bc1b5ada19ac01ce8b5d3e05f7cf136"
   }
  }
 },
 "nbformat": 4,
 "nbformat_minor": 2
}
